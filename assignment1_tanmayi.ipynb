{
 "cells": [
  {
   "cell_type": "code",
   "execution_count": 2,
   "metadata": {},
   "outputs": [
    {
     "name": "stdout",
     "output_type": "stream",
     "text": [
      "[5, 10]\n"
     ]
    }
   ],
   "source": [
    "a=[1,2,3,4,5,6,7,8,9,10]\n",
    "b=[]\n",
    "for i in a:\n",
    "    if (i%5==0):\n",
    "        b.append(i)\n",
    "print(b)\n",
    "    "
   ]
  },
  {
   "cell_type": "code",
   "execution_count": 5,
   "metadata": {},
   "outputs": [
    {
     "name": "stdout",
     "output_type": "stream",
     "text": [
      "True\n"
     ]
    }
   ],
   "source": [
    "n=121\n",
    "rev=0\n",
    "number=n\n",
    "while(n>0):\n",
    "    r=n%10\n",
    "    rev=rev*10+r\n",
    "    n=n//10\n",
    "if (number==rev):\n",
    "    print(True)\n",
    "else:\n",
    "    print(False)\n",
    "    "
   ]
  },
  {
   "cell_type": "code",
   "execution_count": 32,
   "metadata": {},
   "outputs": [
    {
     "name": "stdout",
     "output_type": "stream",
     "text": [
      "[1, 3, 5, 6, 8, 10]\n"
     ]
    }
   ],
   "source": [
    "a=[1,2,3,4,5]\n",
    "b=[6,7,8,9,10]\n",
    "c=[]\n",
    "for num in a:\n",
    "    if num%2!=0:\n",
    "        c.append(num)\n",
    "for num in b:\n",
    "    if num%2==0:\n",
    "        c.append(num)\n",
    "print(c)\n"
   ]
  },
  {
   "cell_type": "code",
   "execution_count": 15,
   "metadata": {},
   "outputs": [
    {
     "name": "stdout",
     "output_type": "stream",
     "text": [
      "won\n"
     ]
    }
   ],
   "source": [
    "string=\"aliceinwonderland\"\n",
    "middle_string=int(len(string)/2)\n",
    "middle_chars=string[middle_string-1:middle_string+2]\n",
    "print(middle_chars)\n"
   ]
  },
  {
   "cell_type": "code",
   "execution_count": 17,
   "metadata": {},
   "outputs": [
    {
     "name": "stdout",
     "output_type": "stream",
     "text": [
      "12@WWWsss\n",
      "Upper case letters: 3\n",
      "lower case letters: 3\n",
      "digits: 2\n",
      "special symbols: 1\n"
     ]
    }
   ],
   "source": [
    "string=input()\n",
    "lower_case,upper_case,digits,special_symbols=0,0,0,0\n",
    "for i in range(len(string)):\n",
    "    if string[i]>='A' and string[i]<='Z':\n",
    "        upper_case+=1\n",
    "    elif string[i]>='a' and string[i]<='z':\n",
    "        lower_case+=1\n",
    "    elif string[i]>='0' and string[i]<='9':\n",
    "        digits+=1\n",
    "    else:\n",
    "        special_symbols+=1\n",
    "print(\"Upper case letters:\",upper_case)\n",
    "print(\"lower case letters:\",lower_case)       \n",
    "print(\"digits:\",digits)    \n",
    "print(\"special symbols:\",special_symbols)    \n"
   ]
  },
  {
   "cell_type": "code",
   "execution_count": 18,
   "metadata": {},
   "outputs": [
    {
     "name": "stdout",
     "output_type": "stream",
     "text": [
      "apple\n",
      "occurences of all characters in 'apple' is:\n",
      " {'a': 1, 'p': 2, 'l': 1, 'e': 1}\n"
     ]
    }
   ],
   "source": [
    "string=input()\n",
    "occurences={}\n",
    "for char in string:\n",
    "    if char in occurences:\n",
    "        occurences[char]+=1\n",
    "    else:\n",
    "        occurences[char]=1\n",
    "print(\"occurences of all characters in '{}' is:\\n {}\".format(string,str(occurences)))"
   ]
  },
  {
   "cell_type": "code",
   "execution_count": 19,
   "metadata": {},
   "outputs": [
    {
     "name": "stdout",
     "output_type": "stream",
     "text": [
      "5 * 1 = 5\n",
      "5 * 2 = 10\n",
      "5 * 3 = 15\n",
      "5 * 4 = 20\n",
      "5 * 5 = 25\n",
      "5 * 6 = 30\n",
      "5 * 7 = 35\n",
      "5 * 8 = 40\n",
      "5 * 9 = 45\n",
      "5 * 10 = 50\n"
     ]
    }
   ],
   "source": [
    "def multiplication(n):\n",
    "    for i in range(1,11):\n",
    "        print(\"%d * %d = %d\"%(n,i,n*i))\n",
    "multiplication(5)\n"
   ]
  },
  {
   "cell_type": "code",
   "execution_count": 31,
   "metadata": {},
   "outputs": [
    {
     "name": "stdout",
     "output_type": "stream",
     "text": [
      "0,2\n",
      "1,3\n",
      "3,5\n",
      "5,7\n",
      "11,13\n",
      "17,19\n",
      "29,31\n",
      "41,43\n",
      "59,61\n",
      "71,73\n"
     ]
    }
   ],
   "source": [
    "def prime(n):\n",
    "    for i in range(2, n):\n",
    "        if n % i == 0:\n",
    "            return False\n",
    "    return True\n",
    "\n",
    "def twin_prime(start, end):\n",
    "    for i in range(start, end):\n",
    "        j = i + 2\n",
    "        if(prime(i) and prime(j)):\n",
    "            print(\"%d,%d\"%(i, j))\n",
    "\n",
    "twin_prime(0, 101)\n"
   ]
  },
  {
   "cell_type": "code",
   "execution_count": 28,
   "metadata": {},
   "outputs": [
    {
     "name": "stdout",
     "output_type": "stream",
     "text": [
      "12\n",
      " 2 is a Prime Factor of a Given Number 12\n",
      " 3 is a Prime Factor of a Given Number 12\n"
     ]
    }
   ],
   "source": [
    "Number = int(input( ))\n",
    "\n",
    "for i in range(2, Number + 1):\n",
    "    if(Number % i == 0):\n",
    "        prime = 1\n",
    "        for j in range(2, (i //2 + 1)):\n",
    "            if(i % j == 0):\n",
    "                prime = 0\n",
    "                break\n",
    "            \n",
    "        if (prime == 1):\n",
    "            print(\" %d is a Prime Factor of a Given Number %d\" %(i, Number))\n",
    "    "
   ]
  },
  {
   "cell_type": "code",
   "execution_count": null,
   "metadata": {},
   "outputs": [],
   "source": []
  }
 ],
 "metadata": {
  "kernelspec": {
   "display_name": "Python 3",
   "language": "python",
   "name": "python3"
  },
  "language_info": {
   "codemirror_mode": {
    "name": "ipython",
    "version": 3
   },
   "file_extension": ".py",
   "mimetype": "text/x-python",
   "name": "python",
   "nbconvert_exporter": "python",
   "pygments_lexer": "ipython3",
   "version": "3.6.5"
  }
 },
 "nbformat": 4,
 "nbformat_minor": 2
}
